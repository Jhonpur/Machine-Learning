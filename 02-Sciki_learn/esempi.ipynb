{
 "cells": [
  {
   "cell_type": "code",
   "execution_count": null,
   "id": "1480d6a4",
   "metadata": {},
   "outputs": [],
   "source": [
    "from sklearn.datasets import load_iris\n",
    "\n",
    "iris = load_iris()\n",
    "# Le feature\n",
    "X = iris.data\n",
    "# Le etichette di calsse (0, 1 o 2)\n",
    "y = iris.target\n",
    "\n",
    "# Dataset composto 8x8 immagini di cifre \n",
    "from sklearn.datasets import load_digits\n",
    "\n",
    "digits = load_digits()\n",
    "X = digits.data\n",
    "y = digits.target\n",
    "\n",
    "#\n",
    "from sklearn.datasets import load_breast_cancer\n",
    "\n",
    "breast_cancer = load_breast_cancer()\n",
    "X = breast_cancer.data\n",
    "y = breast_cancer.target\n",
    "\n",
    "#\n",
    "from sklearn.datasets import load_wine\n",
    "\n",
    "wine = load_wine()\n",
    "X = wine.data\n",
    "y = wine .target"
   ]
  },
  {
   "cell_type": "code",
   "execution_count": 2,
   "id": "4605518e",
   "metadata": {},
   "outputs": [
    {
     "name": "stdout",
     "output_type": "stream",
     "text": [
      "Errore quadratico medio: 1.56\n"
     ]
    },
    {
     "data": {
      "image/png": "[encoded data removed]",
      "text/plain": [
       "<Figure size 640x480 with 1 Axes>"
      ]
     },
     "metadata": {},
     "output_type": "display_data"
    }
   ],
   "source": [
    "import pandas as pd\n",
    "import numpy as np\n",
    "from sklearn.model_selection import train_test_split\n",
    "from sklearn.linear_model import LinearRegression\n",
    "from sklearn.metrics import mean_squared_error\n",
    "import matplotlib.pyplot as plt\n",
    "\n",
    "città = ['Roma', 'Milano', 'Firenze', 'Napoli', 'Palermo']\n",
    "mesi = ['Gennaio', 'Febbraio', 'Marzo', 'Aprile', 'Maggio']\n",
    "temperature = np.array([[10,11,14,18,22],\n",
    "                        [5,7,12,16,20],\n",
    "                        [11,12,15,18,21],\n",
    "                        [12,13,16,19,23],\n",
    "                        [15,16,19,23,27]])\n",
    "df = pd.DataFrame(temperature, columns = mesi, index = città)\n",
    "# Divisione dataframe in addestramento e test\n",
    "X = np.arange(len(mesi)).reshape(-1,1)  # Mesi variabile indipendente\n",
    "y = df.loc['Roma'].values  # Temperature a Roma variabile dipendente\n",
    "\n",
    "X_train, X_test, y_train, y_test = train_test_split(X, y, test_size = 0.2, random_state=0)\n",
    "\n",
    "# Addestriamo il modello di regressione lineare\n",
    "model = LinearRegression()\n",
    "model.fit(X_train, y_train)\n",
    "\n",
    "# Effettuare previsioni e valutazione del modello\n",
    "y_pred = model.predict(X_test)\n",
    "\n",
    "# Calcolare l'errore quadratico medio\n",
    "mse = mean_squared_error(y_test, y_pred)\n",
    "print(f'Errore quadratico medio: {mse:.2f}')\n",
    "\n",
    "# Grafico delle previsioni\n",
    "plt.scatter(X_test, y_test, color='b', label='Dati reali')\n",
    "plt.plot(X_test, y_pred,color='r', label='Previsioni')\n",
    "plt.xlabel('mese')\n",
    "plt.ylabel('temperature')\n",
    "plt.legend()\n",
    "plt.show()"
   ]
  },
  {
   "cell_type": "code",
   "execution_count": 2,
   "id": "40b1766a",
   "metadata": {},
   "outputs": [
    {
     "name": "stdout",
     "output_type": "stream",
     "text": [
      "Accuratezza del modello: 65.00%\n"
     ]
    }
   ],
   "source": [
    "'''Supponiamo di avere un dataset contenente dati sui clienti di un'azienda\n",
    "e vogliamo creare un modello di machine learning per prevedere se un cliente effettuerà un acquisto o meno.'''\n",
    "import pandas as pd\n",
    "import numpy as np\n",
    "from sklearn.model_selection import train_test_split\n",
    "from sklearn.linear_model import LogisticRegression\n",
    "from sklearn.metrics import  accuracy_score\n",
    "\n",
    "# PASSO 1: PREPARAZIONE DEI DATI\n",
    "df = pd.read_csv('clienti_acquisti.csv')\n",
    "\n",
    "# PASSO 2: PRE-PROCESSING DEI DATI\n",
    "# Dividiamo i dati in caratteristiche (X) e etichette (y)\n",
    "X = df[['Eta', 'Reddito_Annuale', 'Acquisti_Precedenti']]\n",
    "y = df['Acquisto']\n",
    "\n",
    "# Dividiamo i dati in set di addestramento e di test\n",
    "X_train, X_test, y_train, y_test = train_test_split(X, y, test_size=0.2, random_state=42)\n",
    "\n",
    "# PASSO 3: CREAZIONE DEL MODELLO\n",
    "# Crea un modello di classicìficazione logistica\n",
    "model = LogisticRegression()\n",
    "\n",
    "# PASSO 4: ADDESTRAMENTO DEL MODELLO\n",
    "# Addestra il modello sui dati di addestramento\n",
    "model.fit(X_train, y_train)\n",
    "\n",
    "# PASSO 5: VALUTAZIONE DEL MODELLO\n",
    "# Effettua previsione sul seti di dati di test\n",
    "y_pred = model.predict(X_test)\n",
    "\n",
    "# Valuta lep restazioni del modello calcolando l'accuratezza\n",
    "accuracy = accuracy_score(y_test, y_pred)\n",
    "print(f'Accuratezza del modello: {accuracy * 100:.2f}%')\n"
   ]
  }
 ],
 "metadata": {
  "kernelspec": {
   "display_name": ".venv",
   "language": "python",
   "name": "python3"
  },
  "language_info": {
   "codemirror_mode": {
    "name": "ipython",
    "version": 3
   },
   "file_extension": ".py",
   "mimetype": "text/x-python",
   "name": "python",
   "nbconvert_exporter": "python",
   "pygments_lexer": "ipython3",
   "version": "3.13.3"
  }
 },
 "nbformat": 4,
 "nbformat_minor": 5
}
