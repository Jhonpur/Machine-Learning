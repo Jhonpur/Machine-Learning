{
 "cells": [
  {
   "cell_type": "code",
   "execution_count": null,
   "id": "86499c3b",
   "metadata": {},
   "outputs": [],
   "source": [
    "# ESERCIZIO 1 Scrivi un programma che acquisisca dati da un file CSV chiamato \"dati.csv\" e li carichi in un DataFrame Pandas.\n",
    "import pandas as pd\n",
    "\n",
    "df = pd.read_csv('dati_pazienti.csv')\n",
    "print(df)"
   ]
  },
  {
   "cell_type": "code",
   "execution_count": 2,
   "id": "57b6fc71",
   "metadata": {},
   "outputs": [
    {
     "name": "stdout",
     "output_type": "stream",
     "text": [
      "Valori mancanti per colonna:\n",
      "ID                               0\n",
      "Età                              0\n",
      "Sesso                            0\n",
      "Altezza (cm)                     0\n",
      "Peso (kg)                        5\n",
      "Fumatore                         0\n",
      "Attività fisica (h/settimana)    0\n",
      "Diabete                          0\n",
      "Diagnosi recente                 0\n",
      "Data ultima visita               0\n",
      "dtype: int64\n",
      "Sostituiti 0 valori mancanti in 'Peso (kg)' con media: 77.63\n",
      "\n",
      "Valori mancanti dopo la sostituzione:\n",
      "ID                               0\n",
      "Età                              0\n",
      "Sesso                            0\n",
      "Altezza (cm)                     0\n",
      "Peso (kg)                        0\n",
      "Fumatore                         0\n",
      "Attività fisica (h/settimana)    0\n",
      "Diabete                          0\n",
      "Diagnosi recente                 0\n",
      "Data ultima visita               0\n",
      "dtype: int64\n"
     ]
    }
   ],
   "source": [
    "'''ESERCIZIO 2\n",
    "Supponiamo che nel DataFrame \"data\" ci siano valori mancanti.\n",
    "Scrivi un programma che identifichi e gestisca i valori mancanti sostituendoli con la media dei valori presenti nella stessa colonna.'''\n",
    "import pandas as pd\n",
    "\n",
    "df = pd.read_csv('dati_pazienti.csv')\n",
    "print(\"Valori mancanti per colonna:\")\n",
    "print(df.isna().sum())\n",
    "\n",
    "colonne = df.columns\n",
    "for col in colonne:\n",
    "    if df[col].isna().any():\n",
    "        media = df[col].mean()\n",
    "        df[col] = df[col].fillna(media)\n",
    "        print(f\"Sostituiti {df[col].isna().sum()} valori mancanti in '{col}' con media: {media:.2f}\")\n",
    "\n",
    "# 3. Verifica finale\n",
    "print(\"\\nValori mancanti dopo la sostituzione:\")\n",
    "print(df.isna().sum())\n"
   ]
  },
  {
   "cell_type": "code",
   "execution_count": 8,
   "id": "80ee3a66",
   "metadata": {},
   "outputs": [
    {
     "data": {
      "image/png": "[encoded data removed]",
      "text/plain": [
       "<Figure size 640x480 with 1 Axes>"
      ]
     },
     "metadata": {},
     "output_type": "display_data"
    }
   ],
   "source": [
    "'''ESERCIZIO 3\n",
    "Utilizzando Matplotlib, crea un grafico a dispersione (scatter plot) dei dati presenti in due colonne del DataFrame \"data\".'''\n",
    "import pandas as pd\n",
    "import matplotlib.pyplot as plt\n",
    "\n",
    "df1 = pd.read_csv('dati_pazienti.csv')\n",
    "\n",
    "plt.scatter(df['Peso (kg)'], df['Attività fisica (h/settimana)'])\n",
    "plt.xlabel('peso')\n",
    "plt.ylabel('attività fisica')\n",
    "plt.title('Grafico a dispersione')\n",
    "plt.show()"
   ]
  },
  {
   "cell_type": "code",
   "execution_count": null,
   "id": "8ad4fb19",
   "metadata": {},
   "outputs": [
    {
     "name": "stdout",
     "output_type": "stream",
     "text": [
      "[[0.21216803 0.26498597 0.71565452]\n",
      " [0.6727715  0.51403344 0.22897934]\n",
      " [0.56974109 0.63978666 0.49778421]]\n"
     ]
    }
   ],
   "source": [
    "'''ESERCIZIO 4\n",
    "Crea un array Numpy bidimensionale con valori casuali di dimensione 3x3.'''\n",
    "import numpy as np\n",
    "\n",
    "array = np.random.rand(3, 3)\n",
    "print(array)"
   ]
  },
  {
   "cell_type": "code",
   "execution_count": 11,
   "id": "fab4c682",
   "metadata": {},
   "outputs": [
    {
     "name": "stdout",
     "output_type": "stream",
     "text": [
      "[[ 38  94 101]\n",
      " [ 57 151 151]\n",
      " [ 48 107 119]]\n"
     ]
    }
   ],
   "source": [
    "'''ESERCIZIO 5\n",
    "Dato un array Numpy A (3x3) e un array B (3x2), scrivi un programma che esegua la moltiplicazione tra di essi e stampi il risultato.'''\n",
    "import numpy as np\n",
    "\n",
    "A = np.array([[2, 4, 7],\n",
    "              [7, 5, 9],\n",
    "              [1, 6, 8]])\n",
    "\n",
    "B = np.array([[2, 7, 5],\n",
    "              [5, 6, 7],\n",
    "              [2, 8, 9]])\n",
    "\n",
    "def prodotto(a, b):\n",
    "    return np.dot(a, b)\n",
    "\n",
    "print(prodotto(A, B))"
   ]
  },
  {
   "cell_type": "code",
   "execution_count": 27,
   "id": "62efae25",
   "metadata": {},
   "outputs": [
    {
     "data": {
      "text/html": [
       "<div>\n",
       "<style scoped>\n",
       "    .dataframe tbody tr th:only-of-type {\n",
       "        vertical-align: middle;\n",
       "    }\n",
       "\n",
       "    .dataframe tbody tr th {\n",
       "        vertical-align: top;\n",
       "    }\n",
       "\n",
       "    .dataframe thead th {\n",
       "        text-align: right;\n",
       "    }\n",
       "</style>\n",
       "<table border=\"1\" class=\"dataframe\">\n",
       "  <thead>\n",
       "    <tr style=\"text-align: right;\">\n",
       "      <th></th>\n",
       "      <th>ID</th>\n",
       "      <th>Età</th>\n",
       "      <th>Altezza (cm)</th>\n",
       "      <th>Peso (kg)</th>\n",
       "      <th>Attività fisica (h/settimana)</th>\n",
       "    </tr>\n",
       "  </thead>\n",
       "  <tbody>\n",
       "    <tr>\n",
       "      <th>mean</th>\n",
       "      <td>50.500000</td>\n",
       "      <td>49.490000</td>\n",
       "      <td>178.800000</td>\n",
       "      <td>77.631579</td>\n",
       "      <td>4.060000</td>\n",
       "    </tr>\n",
       "    <tr>\n",
       "      <th>std</th>\n",
       "      <td>29.011492</td>\n",
       "      <td>18.227238</td>\n",
       "      <td>12.538426</td>\n",
       "      <td>16.829592</td>\n",
       "      <td>2.268894</td>\n",
       "    </tr>\n",
       "  </tbody>\n",
       "</table>\n",
       "</div>"
      ],
      "text/plain": [
       "             ID        Età  Altezza (cm)  Peso (kg)  \\\n",
       "mean  50.500000  49.490000    178.800000  77.631579   \n",
       "std   29.011492  18.227238     12.538426  16.829592   \n",
       "\n",
       "      Attività fisica (h/settimana)  \n",
       "mean                       4.060000  \n",
       "std                        2.268894  "
      ]
     },
     "execution_count": 27,
     "metadata": {},
     "output_type": "execute_result"
    }
   ],
   "source": [
    "'''ESERCIZIO 6\n",
    "Calcola la media e la deviazione standard delle colonne del DataFrame \"data\" utilizzando Pandas.'''\n",
    "import pandas as pd\n",
    "\n",
    "df2 = pd.read_csv('dati_pazienti.csv')\n",
    "\n",
    "visual = df2.describe()\n",
    "visual.iloc[1:3]"
   ]
  },
  {
   "cell_type": "code",
   "execution_count": null,
   "id": "8829bc30",
   "metadata": {},
   "outputs": [],
   "source": [
    "'''ESERCIZIO 7\n",
    "Dividi il DataFrame \"data\" in due sottoinsiemi: uno per l'addestramento del modello (80% dei dati) e uno per la validazione (20% dei dati).'''\n",
    "import pandas as pd\n",
    "from sklearn.model_selection import train_test_split\n",
    "\n",
    "df3 = pd.read_csv('dati_pazienti.csv')\n",
    "\n",
    "X_train, X_test, y_train, y_test = train_test_split(df3['Sesso'], df['Fumatore'], test_size=0.2)"
   ]
  },
  {
   "cell_type": "code",
   "execution_count": null,
   "id": "d5771d45",
   "metadata": {},
   "outputs": [],
   "source": [
    "'''ESERCIZIO 8\n",
    "Supponiamo di avere due array Numpy \"X\" e \"y\" che rappresentano le feature e i target di un modello di regressione. Crea un modello di \n",
    "regressione lineare utilizzando scikit-learn e addestralo.'''\n",
    "import numpy as np\n",
    "from sklearn.model_selection import train_test_split\n",
    "from sklearn.linear_model import LinearRegression\n",
    "\n",
    "np.random.seed(42)\n",
    "X = np.random.randn(100, 3)  # 100 campioni, 3 features\n",
    "y = 2 * X[:, 0] + 3 * X[:, 1] - 1.5 * X[:, 2] + np.random.randn(100) * 0.\n",
    "\n",
    "X_train, X_test, y_train, y_test = train_test_split(X, y, test_size=0.2, random_state=42)\n",
    "\n",
    "#Crea il modello di regressione lineare\n",
    "model = LinearRegression()\n",
    "#Addestra il modello\n",
    "model.fit(X_train, y_train)\n",
    "'''ESERCIZIO 9\n",
    "Valuta le prestazioni del modello di regressione creato nel punto 8 utilizzando il coefficiente di determinazione R².'''\n",
    "from sklearn.metrics import r2_score\n",
    "\n",
    "y_out = model.predict(X_test)\n",
    "r2 = r2_score( y_out, y_test)\n",
    "\n",
    "print(r2)"
   ]
  },
  {
   "cell_type": "code",
   "execution_count": 30,
   "id": "6883a4e3",
   "metadata": {},
   "outputs": [
    {
     "name": "stdout",
     "output_type": "stream",
     "text": [
      "[[-1. -1.  1.]\n",
      " [ 1.  1. -1.]]\n"
     ]
    }
   ],
   "source": [
    "'''ESERCIZIO 10\n",
    "Supponiamo che tu abbia un array Numpy \"data\" con dati numerici. Scrivi un programma che utilizzi scikit-learn per normalizzare i dati\n",
    "in modo che abbiano una media zero e una deviazione standard uno.'''\n",
    "import numpy as np\n",
    "import pandas as pd\n",
    "from sklearn.preprocessing import StandardScaler\n",
    "\n",
    "data = np.array([[2,4,6],[6,8,3]])\n",
    "\n",
    "scaler = StandardScaler()\n",
    "data_norm = scaler.fit_transform(data)\n",
    "print(data_norm)"
   ]
  },
  {
   "cell_type": "code",
   "execution_count": 11,
   "id": "d23b2315",
   "metadata": {},
   "outputs": [
    {
     "name": "stderr",
     "output_type": "stream",
     "text": [
      "c:\\Users\\lorenzo.pourpour\\OneDrive - AGM Solutions\\Desktop\\Machine Learning\\.venv\\Lib\\site-packages\\sklearn\\metrics\\_classification.py:534: UserWarning: A single label was found in 'y_true' and 'y_pred'. For the confusion matrix to have the correct shape, use the 'labels' parameter to pass all known labels.\n",
      "  warnings.warn(\n"
     ]
    },
    {
     "name": "stdout",
     "output_type": "stream",
     "text": [
      "Matrice di confusione: [[1]]\n",
      "Precisione: 1.0\n",
      "Feature importanti: 0.4795638697733121\n",
      "Feature importanti: -0.2131474675195965\n",
      "Feature importanti: 0.15985143532074314\n",
      "Feature importanti: 0.053283280450743126\n",
      "Feature importanti: 0.05327531060817424\n"
     ]
    },
    {
     "data": {
      "image/png": "[encoded data removed]",
      "text/plain": [
       "<Figure size 640x480 with 1 Axes>"
      ]
     },
     "metadata": {},
     "output_type": "display_data"
    }
   ],
   "source": [
    "'''ESERCIZIO 11\n",
    "Supponiamo di avere un set di dati con feature \"X\" e target \"y\" per un problema di classificazione binaria.\n",
    "Crea un modello di classificazione logistica utilizzando scikit-learn e addestralo.'''\n",
    "import numpy as np\n",
    "from sklearn.model_selection import train_test_split\n",
    "from sklearn.linear_model import LogisticRegression\n",
    "\n",
    "np.random.seed(42)\n",
    "X = np.array([[4,5,6,7,9],[5,2,6,0,1],[1,5,7,9,2]])\n",
    "y = np.array([1,0,1])\n",
    "\n",
    "X_train, X_test, y_train, y_test = train_test_split(X, y, test_size=0.2)\n",
    "\n",
    "#Crea il modello di regressione lineare\n",
    "model = LogisticRegression()\n",
    "#Addestra il modello\n",
    "model.fit(X_train, y_train)\n",
    "\n",
    "'''ESERCIZIO 12\n",
    "Valuta le prestazioni del modello di classificazione creato nell’esercizo 11 utilizzando la matrice di confusione e il punteggio di precisione.'''\n",
    "from sklearn.metrics import confusion_matrix\n",
    "from sklearn.metrics import precision_score\n",
    "\n",
    "X_new = model.predict(X_test)\n",
    "confusion = confusion_matrix(y_test, X_new)\n",
    "precision = precision_score(y_test, X_new)\n",
    "\n",
    "print('Matrice di confusione:', confusion)\n",
    "print('Precisione:', precision)\n",
    "\n",
    "'''ESERCIZIO 13\n",
    "Utilizza il modello creato nell’esercizio 11 per estrarre le feature più importanti nel problema di classificazione.'''\n",
    "feature_importanti = model.coef_[0]\n",
    "feature_names = []\n",
    "indici = np.argsort(abs(feature_importanti))[::-1]\n",
    "\n",
    "for i in indici:\n",
    "    print(f\"Feature importanti: {feature_importanti[i]}\")\n",
    "\n",
    "'''ESERCIZIO 14\n",
    "Crea un grafico a barre che mostri le feature importanti estratte nel’esercizio 13.'''\n",
    "plt.bar(feature_importanti, indici)\n",
    "plt.xlabel('a')\n",
    "plt.ylabel('b')\n",
    "plt.title('Feature importanti')\n",
    "plt.show()"
   ]
  },
  {
   "cell_type": "code",
   "execution_count": 4,
   "id": "5a214587",
   "metadata": {},
   "outputs": [
    {
     "name": "stdout",
     "output_type": "stream",
     "text": [
      "[[  1.646317    -2.63741176]\n",
      " [-12.3685856    2.7127811 ]\n",
      " [  1.89631026  -5.56456654]\n",
      " [  8.82595833   5.4891972 ]]\n"
     ]
    },
    {
     "data": {
      "image/png": "[encoded data removed]",
      "text/plain": [
       "<Figure size 640x480 with 1 Axes>"
      ]
     },
     "metadata": {},
     "output_type": "display_data"
    }
   ],
   "source": [
    "'''ESERCIZIO 15\n",
    "Applica la riduzione della dimensionalità su un set di dati \"X\" utilizzando la PCA (Principal Component Analysis) da scikit-learn.'''\n",
    "import numpy as np\n",
    "import matplotlib.pyplot as plt\n",
    "from sklearn.decomposition import PCA\n",
    "\n",
    "X = np.array([[12, 7, 4, 6],[0, 15, 9, 3],[8, 5, 2, 11],[14, 1, 13, 10]])\n",
    "\n",
    "pca = PCA(n_components = 2)\n",
    "X_reduced = pca.fit_transform(X)\n",
    "\n",
    "print(X_reduced)\n",
    "\n",
    "'''ESERCIZIO 16\n",
    "Crea un grafico dei dati ridotti dopo aver applicato la PCA. Ogni punto nel grafico rappresenterà una riga in \"X_reduced\".'''\n",
    "plt.scatter(X_reduced[:,0],X_reduced[:,1])\n",
    "plt.xlabel(\"componente ridotta 1\")\n",
    "plt.ylabel(\"componente ridotta 2\")\n",
    "plt.title(\"COMPONENTI RIDOTTI\")\n",
    "plt.show()"
   ]
  },
  {
   "cell_type": "code",
   "execution_count": null,
   "id": "1a33cfcb",
   "metadata": {},
   "outputs": [],
   "source": [
    "'''ESERCIZIO 17\n",
    "Crea un modello di regressione utilizzando alberi decisionali da scikit-learn e addestralo.'''\n",
    "from sklearn.tree import DecisionTreeRegressor\n",
    "import pandas as pd\n",
    "from sklearn.model_selection import train_test_split\n",
    "\n",
    "df4 = pd.read_csv('dati_pazienti.csv')\n",
    "\n",
    "# Usiamo il DataFrame df \n",
    "X_reg = df4[[\"Altezza (cm)\", \"Peso (kg)\"]]\n",
    "y_reg = df4[\"Età\"]\n",
    "\n",
    "X_train, X_test , y_train, y_test = train_test_split(df4[[\"Altezza (cm)\", \"Peso (kg)\"]],df4[\"Età\"],test_size = 0.5) \n",
    "\n",
    "reg_tree = DecisionTreeRegressor()\n",
    "reg_tree.fit(X_train, y_train)\n",
    "\n",
    "'''ESERCIZIO 18\n",
    "Visualizza l'albero decisionale creato nell’esercizio 17 utilizzando la libreria \"graphviz\".'''\n",
    "from sklearn import tree\n",
    "import graphviz\n",
    "# Esportazione dell'albero\n",
    "dot_data = tree.export_graphviz(reg_tree)\n",
    "\n",
    "# Visualizzazione dell'albero\n",
    "graph = graphviz.Source(dot_data)\n",
    "graph.view()"
   ]
  },
  {
   "cell_type": "code",
   "execution_count": null,
   "id": "03241bcb",
   "metadata": {},
   "outputs": [],
   "source": [
    "'''ESERCIZIO 19\n",
    "Crea un modello di classificazione utilizzando Support Vector Machines (SVM) da scikit-learn e addestralo.'''\n",
    "from sklearn.svm import SVC\n",
    "X = [[0, 0], [1, 1]]\n",
    "y = [0, 1]\n",
    "\n",
    "# Normalizza i dati\n",
    "scaler = StandardScaler()\n",
    "X_scaled = scaler.fit_transform(X)\n",
    "\n",
    "# Crea e addestra il modello\n",
    "model = SVC(kernel='rbf', C=1.0, gamma='scale')\n",
    "model.fit(X_scaled, y)\n",
    "\n",
    "# Predici\n",
    "y_pred = model.predict(X_scaled)\n",
    "\n",
    "'''ESERCIZIO 20\n",
    "Valuta le prestazioni del modello di classificazione SVM creato nell’esercizio 19 utilizzando la cross-validation e calcolando l'accuratezza media.'''\n",
    "from sklearn.model_selection import cross_val_score\n",
    "cv_scores = cross_val_score(model, X_scaled, y, cv=2)\n",
    "\n",
    "print(f\"CV scores: {cv_scores}\")\n",
    "print(f\"Accuratezza media: {cv_scores.mean():.4f}\")\n",
    "print(f\"Deviazione standard: {cv_scores.std():.4f}\")"
   ]
  }
 ],
 "metadata": {
  "kernelspec": {
   "display_name": ".venv",
   "language": "python",
   "name": "python3"
  },
  "language_info": {
   "codemirror_mode": {
    "name": "ipython",
    "version": 3
   },
   "file_extension": ".py",
   "mimetype": "text/x-python",
   "name": "python",
   "nbconvert_exporter": "python",
   "pygments_lexer": "ipython3",
   "version": "3.13.3"
  }
 },
 "nbformat": 4,
 "nbformat_minor": 5
}
